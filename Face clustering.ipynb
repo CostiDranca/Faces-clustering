{
  "nbformat": 4,
  "nbformat_minor": 0,
  "metadata": {
    "colab": {
      "name": "Project 2 Dranca Constantin",
      "provenance": [],
      "collapsed_sections": [],
      "toc_visible": true
    },
    "kernelspec": {
      "display_name": "Python 3",
      "name": "python3"
    },
    "accelerator": "GPU"
  },
  "cells": [
    {
      "cell_type": "markdown",
      "metadata": {
        "id": "9bc4hmj6H-uH"
      },
      "source": [
        "# Images clustering: Clustering images of human faces\n",
        "Dranca Constantin"
      ]
    },
    {
      "cell_type": "markdown",
      "metadata": {
        "id": "tfwaRKXJO-a5"
      },
      "source": [
        "# I. Introduction\n",
        "The clustering of images is a problem often approached in the field of unsupervised learning, the problem can be formulated like this, given a set of images, find clusters of images that are similar. In this notebook the problem of finding clusters of faces is approached with different unsupervised learning algorithms (like K-means, DBSCAN ...) applied on face embeddings obtained from images using deep neural networks trained in the scope of generating face embeddings from pictures.\n",
        "\n",
        "<img src = 'https://drive.google.com/uc?id=1Jo_1mig2S9tcXFNNsBsWkRC8JeC6PSUa' width = 700> \n",
        "\n",
        "Figure 1.1. Example of clustering a set of images into two clusters, in each cluster are the images of the same person, image taken and processed from [4]"
      ]
    },
    {
      "cell_type": "code",
      "metadata": {
        "id": "q9C7LFwM8JOh"
      },
      "source": [
        "from __future__ import print_function\n",
        "import numpy as np\n",
        "import pandas as pd\n",
        "import tensorflow as tf\n",
        "\n",
        "from tensorflow import keras\n",
        "from keras.models import load_model\n",
        "from PIL import Image\n",
        "from matplotlib import pyplot\n"
      ],
      "execution_count": 1,
      "outputs": []
    },
    {
      "cell_type": "markdown",
      "metadata": {
        "id": "ENRGgp1Q__Sr"
      },
      "source": [
        "This notebook was written in google colab, this is the reason why the google drive is mounted to the local working directory. In the case or running the notebook directly on PC then this cell doesn’t need to be executed and the root to the files must be set according to the file system of the PC."
      ]
    },
    {
      "cell_type": "code",
      "metadata": {
        "colab": {
          "base_uri": "https://localhost:8080/"
        },
        "id": "PuoGbdHwAv8Q",
        "outputId": "02fa6266-138b-4e1a-926d-57854093a9f3"
      },
      "source": [
        "from google.colab import drive\n",
        "drive.mount('/content/gdrive')"
      ],
      "execution_count": 2,
      "outputs": [
        {
          "output_type": "stream",
          "text": [
            "Mounted at /content/gdrive\n"
          ],
          "name": "stdout"
        }
      ]
    },
    {
      "cell_type": "markdown",
      "metadata": {
        "id": "4FbSp7tbA1wS"
      },
      "source": [
        "# II. FairFace dataset\n",
        "The dataset used for clustering is the FairFace dataset [3] introduced in the paper FairFace: Face Attribute Dataset for Balanced Race, Gender, and Age [1], it is a set with around 80000 images for train and 10000 images for test. For clustering it was used the train dataset. The faces are of various races, both genders and all ages. The faces are also varied in their pose, illumination and facial features. Images are with cropped faces, in RGB format and of size 224×224. \n",
        "\n",
        "The dataset can be downloaded from here: https://github.com/joojs/fairface, the version used here is the one with 0.25 padding in order to have images only with the human face and not the surounding background.\n",
        "\n",
        "Below are some images from the dataset, the faces are exposed to different illuminations, various facial expressions, have different positions and angles, are varied across all ages from babies to old persons.\n",
        "\n",
        "<img src = 'https://drive.google.com/uc?id=1dd6r5i4MCH-qr7slgxPvd5M2wSKGEvse' width = 400> \n",
        "\n",
        "Figure 2.2, Examples of images with faces from the FairFace dataset, images taken and processed from [3].\n",
        "\n",
        "The dataset contains 7 classes of races: White, Black, Latino Hispanic, east Asian, southeast Asian, Indian, Middle Eastern. As stated in the paper, the classes are balanced, compared with other datasets.\n",
        "\n",
        "<img src = 'https://drive.google.com/uc?id=1J3OBk1Gv3m1XMxNZffFatYzr51gKc5zL' width = 500> \n",
        "\n",
        "Figure 2.1, The distribution of the races from the FairFace dataset compared with other faces datasets, we can observe that the FairFace dataset have better balanced classes, image taken and processed from [1]."
      ]
    },
    {
      "cell_type": "code",
      "metadata": {
        "id": "G2W3XWmc9LCO",
        "colab": {
          "base_uri": "https://localhost:8080/"
        },
        "outputId": "69348338-c491-4d95-cb72-2b2223e3d300"
      },
      "source": [
        "# Cell used to import data from drive and to unzip it, \n",
        "# data is in a .zip file\n",
        "from zipfile import ZipFile\n",
        "\n",
        "PATH_OF_FILE = 'gdrive/My Drive/fairface-img-margin025-trainval.zip'\n",
        "\n",
        "print(\"Loading file\")\n",
        "with ZipFile(PATH_OF_FILE, 'r') as zipObj:\n",
        "    print(\"Extracting\")\n",
        "    zipObj.extractall() \n",
        "print(\"Complete\")"
      ],
      "execution_count": 3,
      "outputs": [
        {
          "output_type": "stream",
          "text": [
            "Loading file\n",
            "Extracting\n",
            "Complete\n"
          ],
          "name": "stdout"
        }
      ]
    },
    {
      "cell_type": "markdown",
      "metadata": {
        "id": "cf8gHuwnOnFL"
      },
      "source": [
        "We will take a look also at the gender distribution and age distribution of the dataset"
      ]
    },
    {
      "cell_type": "code",
      "metadata": {
        "id": "v1AR115TOXzR"
      },
      "source": [
        "files_df = pd.read_csv('gdrive/My Drive/fairface_label_train.csv')\n",
        "\n",
        "nr_females = len(files_df.loc[files_df['gender'] == 'Female'])\n",
        "nr_males = len(files_df.loc[files_df['gender'] == 'Male'])\n",
        "\n",
        "print('Number of images with female person:', nr_females)\n",
        "print('Number of images with male person:', nr_males)\n",
        "\n",
        "hist_values = np.array([nr_females, nr_males])\n",
        "\n",
        "pyplot.figure(figsize=(5, 5))\n",
        "pyplot.bar(\n",
        "    [1, 2], \n",
        "    hist_values, \n",
        "    width = 0.5,\n",
        "    color = ['r', 'blue'], \n",
        "    edgecolor = 'black', \n",
        "    linewidth = 2\n",
        "    )\n",
        "pyplot.title(\"Gender distribution\")\n",
        "pyplot.ylabel(\"Number of images\")\n",
        "pyplot.xticks([1, 2], ['Females', 'Males'] )\n",
        "pyplot.show()"
      ],
      "execution_count": null,
      "outputs": []
    },
    {
      "cell_type": "markdown",
      "metadata": {
        "id": "64ePdchASkpt"
      },
      "source": [
        "After running the cell above the results show that there are 40758 images with female faces and 45986 images with male faces. In the case of the gender the dataset is balanced, as we can see from the following histogram.\n",
        "\n",
        "<img src = 'https://drive.google.com/uc?id=1FkQ-idtLNnOWCkc_ezccEdND8ogfkvYb' width = 300> \n",
        "\n",
        "Figure 2.3. The gender distribution of the images from the FairFace dataset."
      ]
    },
    {
      "cell_type": "code",
      "metadata": {
        "id": "rRMXWGtCTqpv"
      },
      "source": [
        "ages = files_df['age'].to_numpy()\n",
        "\n",
        "groups = np.array(\n",
        "    ['0-2', \n",
        "     '3-9', \n",
        "     '10-19', \n",
        "     '20-29', \n",
        "     '30-39', \n",
        "     '40-49', \n",
        "     '50-59', \n",
        "     '60-69', \n",
        "     'more than 70'\n",
        "     ])\n",
        "\n",
        "group_nr_images = []\n",
        "\n",
        "for group in groups:\n",
        "    group_nr_images.append(np.count_nonzero(ages == group))\n",
        "\n",
        "bins = np.arange(1, len(groups) + 1)\n",
        "\n",
        "pyplot.figure(figsize=(8, 5))\n",
        "pyplot.bar(\n",
        "    bins, \n",
        "    group_nr_images, \n",
        "    width = 0.5,\n",
        "    edgecolor = 'black', \n",
        "    linewidth = 2\n",
        "    )\n",
        "pyplot.title(\"Age distribution\")\n",
        "pyplot.ylabel(\"Number of images\")\n",
        "pyplot.xticks(bins, groups)\n",
        "pyplot.show()"
      ],
      "execution_count": null,
      "outputs": []
    },
    {
      "cell_type": "markdown",
      "metadata": {
        "id": "h_E_nZ3XXOkV"
      },
      "source": [
        "The images are grouped in 9 groups of age, the histogram of the age distribution of the dataset is shown below. As expected, in the case of using a continous variable for modeling the data, this age distribution tend to a normal distribution (this is probably due to the fact that is harder to obatin images with babies or old persons and the most present images accros the internet are with adult persons).\n",
        "\n",
        "<img src = 'https://drive.google.com/uc?id=1EoR22h-QPMdEWGUtPmDUUFyQf-2NsEMA' width = 400>\n",
        "\n",
        "Figure 2.4. The age distribution of the images from the FairFace dataset."
      ]
    },
    {
      "cell_type": "markdown",
      "metadata": {
        "id": "YmV0O70cZX-q"
      },
      "source": [
        "# III. Clustering approach\n",
        "\n",
        "Applying directly the clustering algorithms on the images has some issues:\n",
        "\n",
        "\n",
        "*   Because the dimensionality of the Euclidian space that the algorithm is applied is very large, images are of size 3×224×224 and to consider their vectorized format (from a 3D matrix to a 1D vector) we would obtain vectors in the euclidian space R^150528 which is a very large space, applying clustering algorithms on such a space with 80000 vectors would make the time execution explode.\n",
        "*   The clustering algorithm doesn’t construct clusters based on semantic facial features (like nose form, skin color, eye color, type of hair) but on the raw values of the pixels, even the execution of the algorithm ends the clusters obtained could contain images with no underlying relation between them (image a cluster with 4 image: an old black man, a white baby, an Indian adult and an Asiatic child, the only relations between their faces are very general, all of them have one nose, two eyes, one mouth and so on).\n",
        "\n",
        "To solve this issues we could use an algorithm implemented to extract a vector of features for every image. \n",
        "\n",
        "The approch used in this notebook is the following: \n",
        "\n",
        "*   Firstly, face embeddings must be extracted from images, for this it was used the FaceNet model [2] which is a convolutional neural network trained on millions of images with faces to extract face embeddings, a face embedding is a vector with 128 features than describe the face contained in the image. \n",
        "*   After the face embeddings are obtained, the new dataset with embeddings can be used for clustering with classical clustering algorithms (like K-means).\n",
        "\n",
        "For more details about FaceNet model is found at [2]. The model can be downloaded from https://drive.google.com/drive/folders/1pwQ3H4aJ8a6yyJHZkTwtjcL4wYWQb7bn\n",
        "\n",
        "<img src = 'https://drive.google.com/uc?id=16zlxI529IZkhpUj532uprzTJ5CDtgy0C' width = 400>\n",
        "\n",
        "Figure 3.1, The structure of the approach.\n"
      ]
    },
    {
      "cell_type": "markdown",
      "metadata": {
        "id": "2U9qX7utXn3n"
      },
      "source": [
        "# IV. Extract face embeddings with FaceNet\n",
        "\n",
        "Every image is forwraded thorugh the FaceNet CNN and is obtained a vector with 128 features that can be used as a descriptor of the face contained in the image. All these embeddings are saved in a .csv file.\n",
        "\n",
        "The csv files with already computed face embeddings can be downloaded from the link: https://drive.google.com/file/d/1aJ9KyXgUur2EG6DODsg4C5VooPvSEa8P/view?usp=sharing"
      ]
    },
    {
      "cell_type": "code",
      "metadata": {
        "id": "fv_WEcgTDOgp"
      },
      "source": [
        "faceNet = load_model('gdrive/My Drive/facenet_keras.h5')\n",
        "\n",
        "files_df = pd.read_csv('gdrive/My Drive/fairface_label_train.csv')\n",
        "files_list = files_df['file'].tolist()\n",
        "\n",
        "embeddings_images = np.zeros((1,128))\n",
        "\n",
        "nr = 0\n",
        "images_batch = np.zeros((1, 160, 160, 3))\n",
        "\n",
        "for filename in files_list:\n",
        "    img = Image.open(filename)\n",
        "    img = img.convert('RGB')\n",
        "    img = img.resize((160, 160))\n",
        "    img = np.asarray(img)\n",
        "\n",
        "    img = img.astype('float32')\n",
        "    mean = img.mean()\n",
        "    std = img.std()\n",
        "    \n",
        "    img = (img - mean) / std\n",
        "\n",
        "    img = np.expand_dims(img, axis=0)\n",
        "    images_batch = np.concatenate((images_batch, img))\n",
        "\n",
        "    nr += 1\n",
        "    if((nr % 500) == 0):\n",
        "        print(\"Extracted for\", nr, \"images\")\n",
        "        embeddings_images = np.concatenate(\n",
        "            (embeddings_images, faceNet.predict(images_batch[1:]))\n",
        "        )\n",
        "        images_batch = np.zeros((1, 160, 160, 3))"
      ],
      "execution_count": null,
      "outputs": []
    },
    {
      "cell_type": "code",
      "metadata": {
        "id": "9rWNGoCHvYvv"
      },
      "source": [
        "embeddings_df = pd.DataFrame(embeddings_images[1:])\n",
        "\n",
        "embeddings_df.to_csv('gdrive/My Drive/face_embbedings.csv', index = False)"
      ],
      "execution_count": null,
      "outputs": []
    },
    {
      "cell_type": "markdown",
      "metadata": {
        "id": "ts43dN32Xz_e"
      },
      "source": [
        "# V. K-means\n",
        "\n",
        "K-means is an unsupervised learning algorithm based on clustering the points on their distances to the nearest cluster centroid, a cluster is represented by a centroid (the center of the cluster). The algorithm partitions the data in a fixed number of clusters on the following rule: a point X is associated with the cluster that have the centroid C at the lowest distance to the point, as a result, the space of dataset is structured in a Voronoi diagram. The objective of K-means is to minimize the sum of distances from the data points to their nearest centroid\n",
        "\n",
        "The algorithm is the following:\n",
        "\n",
        "**Step 1:** K centroids are chosen randomly.\n",
        "\n",
        "**Step 2:** Label each point to the cluster that have it’s centroid at the lowest distance to the point.\n",
        "\n",
        "**Step 3:** Recompute the centroids, the new centroid, which is the mean of all points from the cluster.\n",
        "\n",
        "**Repeat** Step2. and Step3. until centroids don’t change their values or a maximum number of iterations fixed prior is done.\n",
        "\n",
        "\n",
        "To find the best value for the number of clusters the graphs for distortion value and silhouette value were plotted. Below are these graphs obtained with the below code.\n",
        "\n",
        "<img src = 'https://drive.google.com/uc?id=1wudiNsvumbTTzomDqfCO7eIpAPF-_21_' width = 400>\n",
        "<img src = 'https://drive.google.com/uc?id=1RZAn7_eKv4TA1a2hSwrTZFXyR_MMqQ5y' width = 400>\n",
        "\n",
        "\n"
      ]
    },
    {
      "cell_type": "code",
      "metadata": {
        "id": "gnDZR-XS4Rb1",
        "colab": {
          "base_uri": "https://localhost:8080/",
          "height": 1000
        },
        "outputId": "065d64f8-388e-47ec-a80d-2a7ddf8dff80"
      },
      "source": [
        "import pandas as pd\n",
        "import sklearn\n",
        "from sklearn.cluster import KMeans\n",
        "from sklearn.metrics import silhouette_score\n",
        "\n",
        "NUMBER_CLUSTERS = 20\n",
        "\n",
        "data_set = (pd.read_csv('gdrive/My Drive/face_embbedings.csv')).to_numpy()\n",
        "\n",
        "distortion_list = []\n",
        "sil_scores_list = []\n",
        "\n",
        "for nr_clusters in range(1, NUMBER_CLUSTERS + 1):\n",
        "    kmeans = KMeans(n_clusters = nr_clusters, max_iter = 1000, n_jobs = -1, verbose = 1)\n",
        "\n",
        "    kmeans.fit(data_set)\n",
        "\n",
        "    distortion_value = kmeans.inertia_\n",
        "    distortion_list.append(distortion_value)\n",
        "\n",
        "    predictions = kmeans.predict(data_set)\n",
        "    \n",
        "    print(\"For\", nr_clusters)\n",
        "    print(\"Distortion value:\", distortion_value)\n",
        "\n",
        "    if(nr_clusters > 1):\n",
        "        sil_score = silhouette_score(data_set, predictions)\n",
        "        sil_scores_list.append(sil_score)\n",
        "        print(\"Silouhette score:\", sil_score, \"\\n\")\n"
      ],
      "execution_count": null,
      "outputs": [
        {
          "output_type": "stream",
          "text": [
            "For 1\n",
            "Distortion value: 10137721.486857159\n",
            "For 2\n",
            "Distortion value: 9708792.767022338\n",
            "Silouhette score: 0.032411623003432914 \n",
            "\n",
            "For 3\n",
            "Distortion value: 9387497.272318946\n",
            "Silouhette score: 0.02069209643674227 \n",
            "\n",
            "For 4\n",
            "Distortion value: 9177443.226038242\n",
            "Silouhette score: 0.025198245754544348 \n",
            "\n",
            "For 5\n",
            "Distortion value: 8999161.885746535\n",
            "Silouhette score: 0.029817021767364706 \n",
            "\n",
            "For 6\n",
            "Distortion value: 8858673.155041639\n",
            "Silouhette score: 0.030308158452326855 \n",
            "\n",
            "For 7\n",
            "Distortion value: 8731753.139758611\n",
            "Silouhette score: 0.021444188622868572 \n",
            "\n",
            "For 8\n",
            "Distortion value: 8629673.872611327\n",
            "Silouhette score: 0.0245392980908798 \n",
            "\n",
            "For 9\n",
            "Distortion value: 8541842.469333488\n",
            "Silouhette score: 0.025364776136901968 \n",
            "\n",
            "For 10\n",
            "Distortion value: 8466159.031048385\n",
            "Silouhette score: 0.023756878267724022 \n",
            "\n",
            "For 11\n",
            "Distortion value: 8396388.786913987\n",
            "Silouhette score: 0.02656122079448219 \n",
            "\n",
            "For 12\n",
            "Distortion value: 8338219.085153546\n",
            "Silouhette score: 0.012016010196917108 \n",
            "\n",
            "For 13\n",
            "Distortion value: 8280767.089293038\n",
            "Silouhette score: 0.013577679496291512 \n",
            "\n",
            "For 14\n",
            "Distortion value: 8230258.050874737\n",
            "Silouhette score: 0.00996511590296529 \n",
            "\n",
            "For 15\n",
            "Distortion value: 8181648.347352456\n",
            "Silouhette score: 0.011885044841691176 \n",
            "\n",
            "For 16\n",
            "Distortion value: 8140874.871007444\n",
            "Silouhette score: 0.012448131920181925 \n",
            "\n",
            "For 17\n",
            "Distortion value: 8101679.500464257\n",
            "Silouhette score: 0.01258945494445846 \n",
            "\n",
            "For 18\n",
            "Distortion value: 8062146.860858609\n",
            "Silouhette score: 0.012252522389302538 \n",
            "\n",
            "For 19\n",
            "Distortion value: 8025652.930834316\n",
            "Silouhette score: 0.01373358712703804 \n",
            "\n",
            "For 20\n",
            "Distortion value: 7989629.594466307\n",
            "Silouhette score: 0.01453600179041467 \n",
            "\n"
          ],
          "name": "stdout"
        }
      ]
    },
    {
      "cell_type": "code",
      "metadata": {
        "id": "2_mfcbktktIS",
        "colab": {
          "base_uri": "https://localhost:8080/",
          "height": 662
        },
        "outputId": "df4fd9f4-3668-47e4-d9eb-72dd029e0710"
      },
      "source": [
        "def plot_values(\n",
        "        values,\n",
        "        color='blue', \n",
        "        label = 'Distortion', \n",
        "        parameter = \"Nr. Clusters\"\n",
        "    ):\n",
        "    \n",
        "    pyplot.figure(figsize=(9, 5))\n",
        "    pyplot.plot(values, color=color)\n",
        "    pyplot.xlabel(parameter)\n",
        "    pyplot.ylabel(label)\n",
        "    pyplot.grid(b=True, which='major', color='#666666', linestyle='-')\n",
        "    pyplot.minorticks_on()\n",
        "    pyplot.grid(b=True, which='minor', color='#999999', linestyle='-', alpha=0.2)\n",
        "    if(label == 'Silhouette Score'):\n",
        "        pyplot.xticks( np.arange(len(values)), range(2,len(values) + 1) )\n",
        "    else:\n",
        "        pyplot.xticks( np.arange(len(values)), range(1,len(values) + 1) )\n",
        "\n",
        "plot_values(distortion_list)\n",
        "plot_values(sil_scores_list, color = 'green', label = \"Silhouette Score\")"
      ],
      "execution_count": null,
      "outputs": [
        {
          "output_type": "display_data",
          "data": {
            "image/png": "[encoded data removed]",
            "text/plain": [
              "<Figure size 648x360 with 1 Axes>"
            ]
          },
          "metadata": {
            "tags": [],
            "needs_background": "light"
          }
        },
        {
          "output_type": "display_data",
          "data": {
            "image/png": "[encoded data removed]",
            "text/plain": [
              "<Figure size 648x360 with 1 Axes>"
            ]
          },
          "metadata": {
            "tags": [],
            "needs_background": "light"
          }
        }
      ]
    },
    {
      "cell_type": "markdown",
      "metadata": {
        "id": "FiJ6B_6LhfZ6"
      },
      "source": [
        "The number of clusters chosen was 6 because from the value 6 the distortion doesn’t decrease too much with higher numbers of clusters and the value of the silhouette is the second highest one."
      ]
    },
    {
      "cell_type": "code",
      "metadata": {
        "id": "OlMF1fGhYe0g"
      },
      "source": [
        "import pandas as pd\n",
        "import sklearn\n",
        "from sklearn.cluster import KMeans\n",
        "from sklearn.metrics import silhouette_score\n",
        "\n",
        "NUMBER_CLUSTERS = 6\n",
        "\n",
        "data_set = (pd.read_csv('gdrive/My Drive/face_embbedings.csv')).to_numpy()\n",
        "\n",
        "kmeans = KMeans(n_clusters = NUMBER_CLUSTERS, max_iter = 1000, n_jobs = -1, verbose = 1)\n",
        "\n",
        "kmeans.fit(data_set)\n",
        "\n",
        "predictions = kmeans.predict(data_set)\n",
        "data = []\n",
        "\n",
        "for i in range(0, len(predictions)):\n",
        "    data.append([\"train/\" + str(i + 1) + \".jpg\", predictions[i]])\n",
        "\n",
        "data_df = pd.DataFrame(data)"
      ],
      "execution_count": null,
      "outputs": []
    },
    {
      "cell_type": "code",
      "metadata": {
        "id": "CEbp22kB7NRv"
      },
      "source": [
        "data_df.to_csv('gdrive/My Drive/6_clusters_face.csv', index = False)"
      ],
      "execution_count": null,
      "outputs": []
    },
    {
      "cell_type": "code",
      "metadata": {
        "id": "viweERXrZp-3"
      },
      "source": [
        "centroids_list = kmeans.cluster_centers_\n",
        "centroids_df = pd.DataFrame(centroids_list)\n",
        "centroids_df.to_csv('gdrive/My Drive/6_clusters_centers.csv', index = False)"
      ],
      "execution_count": null,
      "outputs": []
    },
    {
      "cell_type": "markdown",
      "metadata": {
        "id": "fyxyGdy_bpNT"
      },
      "source": [
        "**Cell for the closest images to the culster's centroid**"
      ]
    },
    {
      "cell_type": "code",
      "metadata": {
        "id": "RMPb71OmbqBC"
      },
      "source": [
        "from PIL import Image\n",
        "from IPython.display import display\n",
        "import pandas as pd\n",
        "import scipy\n",
        "from scipy.spatial.distance import cdist\n",
        "\n",
        "data_df = (pd.read_csv('gdrive/My Drive/face_embbedings.csv')).to_numpy()\n",
        "centroids_df = pd.read_csv('gdrive/My Drive/6_clusters_centers.csv')\n",
        "\n",
        "\n",
        "def compute_distances(centroids, data_set, cluster):\n",
        "    return cdist(centroids[cluster:cluster + 1], data_set,'euclidean')\n",
        "\n",
        "def show_closest_images(cluster, centroids_df, data_df, nr_images):\n",
        "    centroids = centroids_df.values\n",
        "\n",
        "    distances = (compute_distances(centroids, data_df, cluster))[0]\n",
        "\n",
        "    list_dist = [(distances[i], i) for i in range(0, len(distances))]\n",
        "    list_dist.sort(key = lambda x: x[0])  \n",
        "    \n",
        "    for i in range(0, nr_images):\n",
        "        filename = 'train/' + str(list_dist[i][1]) + '.jpg'\n",
        "        display(Image.open('/content/' + filename).convert('RGB'))\n",
        "    \n",
        "\n",
        "show_closest_images(1, centroids_df, data_df, nr_images = 10)"
      ],
      "execution_count": null,
      "outputs": []
    },
    {
      "cell_type": "markdown",
      "metadata": {
        "id": "cXvRnCtohyLB"
      },
      "source": [
        "# VI. K-means results\n",
        "\n",
        "Below are some examples with the most representative images for every cluster (the number of clusters chosen was 6).\n",
        "\n",
        "<img src = 'https://drive.google.com/uc?id=1sg4NvSJMvA2pQjru_5neFAQLQsxw-_lY' width = 500>\n"
      ]
    },
    {
      "cell_type": "markdown",
      "metadata": {
        "id": "e5gkL3nPrPRu"
      },
      "source": [
        "# VII. DBSCAN: Density-based Spatial Clustering of Applications with Noise\n",
        "\n",
        "**DBSCAN** is a unsupervised learning algorithm that creates clusters with points closely grouped, the objective of the algorithm is to find dense clusters and the points outside the clusters are labeled as noise points. The ε-neighborhood of a point p is the set of points that are situated at a distance smaller than ε.\n",
        "A point p is a core point if it’s ε-neighborhood has at least m points. A point q is a border points if it is in the ε-neighborhood of another point p with p≠q. A point q is directly density-reachable from p if q is a border point of p. A point q is density-reachable from p if there exist a sequence of points starting with p and ending with q and one point is directly density-reachable from the previous point. A point q is density-connected to a point p if there exist a point r such that both points are density-reachable from r.\n",
        "\n",
        "<img src = 'https://drive.google.com/uc?id=1eMwmo_vqBB17Pcpfje1AGehW-ezx22AN' width = 500>\n"
      ]
    },
    {
      "cell_type": "code",
      "metadata": {
        "id": "yEpp-x2oGAid"
      },
      "source": [
        "import pandas as pd\n",
        "\n",
        "data_df = (pd.read_csv('gdrive/My Drive/face_embbedings.csv'))\n",
        "8.24\n",
        "data_set = data_df.to_numpy()"
      ],
      "execution_count": null,
      "outputs": []
    },
    {
      "cell_type": "markdown",
      "metadata": {
        "id": "Uni6djFikbf4"
      },
      "source": [
        "The following cell must be executed only if you want to normalize the data set."
      ]
    },
    {
      "cell_type": "code",
      "metadata": {
        "id": "kb4WY1nJMz9I",
        "colab": {
          "base_uri": "https://localhost:8080/",
          "height": 34
        },
        "outputId": "9e0485d6-dc24-4a04-b954-5f7263085321"
      },
      "source": [
        "mean = np.mean(data_set, axis=0)\n",
        "std = np.std(data_set, axis=0)\n",
        "\n",
        "data_set = (data_set - mean)/std\n",
        "\n",
        "print(data_set.shape)"
      ],
      "execution_count": null,
      "outputs": [
        {
          "output_type": "stream",
          "text": [
            "(86744, 128)\n"
          ],
          "name": "stdout"
        }
      ]
    },
    {
      "cell_type": "code",
      "metadata": {
        "id": "mrCqcmL9eP7X"
      },
      "source": [
        "import numpy as np \n",
        "import pandas as pd\n",
        "from numba import jit, cuda\n",
        "import sklearn\n",
        "  \n",
        "from sklearn.cluster import DBSCAN \n",
        "\n",
        "EPSILON = 10.5\n",
        "M = 5\n",
        "\n",
        "dbscan = DBSCAN(eps = EPSILON, min_samples = M, n_jobs = -1)\n",
        "dbscan.fit(data_set)\n"
      ],
      "execution_count": null,
      "outputs": []
    },
    {
      "cell_type": "code",
      "metadata": {
        "id": "3c_V78avtiYA",
        "colab": {
          "base_uri": "https://localhost:8080/",
          "height": 71
        },
        "outputId": "a72e94e2-cef6-4675-971f-bcc87f5aaffd"
      },
      "source": [
        "from collections import Counter\n",
        "\n",
        "print(Counter(dbscan.labels_).keys())\n",
        "print(Counter(dbscan.labels_).values())"
      ],
      "execution_count": null,
      "outputs": [
        {
          "output_type": "stream",
          "text": [
            "dict_keys([0, -1, 19, 1, 2, 8, 10, 31, 3, 4, 5, 15, 6, 38, 35, 16, 7, 9, 48, 11, 12, 49, 53, 26, 13, 41, 25, 14, 17, 22, 52, 18, 23, 20, 21, 24, 40, 27, 28, 29, 30, 47, 32, 33, 51, 34, 37, 50, 42, 36, 39, 45, 46, 44, 43])\n",
            "dict_values([74905, 11493, 22, 9, 10, 6, 4, 7, 9, 5, 13, 9, 5, 6, 4, 6, 8, 6, 6, 6, 8, 4, 5, 5, 7, 5, 5, 5, 6, 15, 4, 5, 4, 9, 5, 14, 4, 4, 5, 8, 6, 7, 1, 5, 4, 10, 6, 4, 3, 9, 4, 4, 4, 5, 6])\n"
          ],
          "name": "stdout"
        }
      ]
    },
    {
      "cell_type": "markdown",
      "metadata": {
        "id": "3JcKi6mbITuc"
      },
      "source": [
        "The clusters obtained for different values of the parameters M and Eps. The label -1 means noise point. We can see that in most of the cases there is obtained only one cluster with most of the images and some very small clusters with few images.\n",
        "\n",
        "M = 10\n",
        "Eps = 12.\n",
        "dict_keys([0, -1])\n",
        "dict_values([86438, 306])\n",
        "\n",
        "M = 10\n",
        "Eps = 11.5\n",
        "dict_keys([0, -1])\n",
        "dict_values([84960, 1784])\n",
        "\n",
        "M = 10\n",
        "Eps = 11.\n",
        "dict_keys([0, -1, 1])\n",
        "dict_values([80673, 6058, 13])\n",
        "\n",
        "M = 5\n",
        "Eps = 11.\n",
        "dict_keys([0, -1, 9, 4, 1, 8, 7, 5, 2, 3, 6])\n",
        "dict_values([81777, 4924, 3, 7, 5, 5, 4, 5, 5, 5, 4])"
      ]
    },
    {
      "cell_type": "markdown",
      "metadata": {
        "id": "VgOmj3okDNs7"
      },
      "source": [
        "# VIII. Compute kth distances\n",
        "\n",
        "To find the best value for the epsilon and M the graph for kth distances was plotted. The best values are ussualy located in the zone in which the graph has the bigest change in curvature.\n",
        "\n",
        "<img src = 'https://drive.google.com/uc?id=1z2UDwE-lMJnP0uiFVnOkZFnrJO_2tO61' width = 500>\n"
      ]
    },
    {
      "cell_type": "code",
      "metadata": {
        "id": "B4mwD36vDTXs"
      },
      "source": [
        "import pandas as pd\n",
        "import numpy as np\n",
        "\n",
        "data_set = (pd.read_csv('gdrive/My Drive/face_embbedings.csv')).to_numpy()\n",
        "\n"
      ],
      "execution_count": null,
      "outputs": []
    },
    {
      "cell_type": "markdown",
      "metadata": {
        "id": "GQe10rbilyVT"
      },
      "source": [
        "**The kth distances graph was obtained by computting manually all these dsitances batches, to run the algorithm on the entire set of facial embeddings cause the execution to crash because of the memory limit.**"
      ]
    },
    {
      "cell_type": "code",
      "metadata": {
        "id": "0T9kaMOFDaa7"
      },
      "source": [
        "from matplotlib import pyplot\n",
        "from numba import jit, cuda\n",
        "import scipy\n",
        "from scipy.spatial.distance import cdist\n",
        "\n",
        "distances_df = pd.DataFrame()\n",
        "\n",
        "@jit\n",
        "def compute_kth_dist(data_set, k = 0):\n",
        "    return cdist(data_set[k:k + 5000], data_set,'euclidean')\n",
        "\n",
        "@jit\n",
        "def compute_last_dist(data_set, k = 0):\n",
        "    return cdist(data_set[k:len(data_set)], data_set,'euclidean')\n",
        "\n",
        "for K in range(0, 40000, 5000):\n",
        "    print(\"Executed for\", K, \"points\")\n",
        "    distances_list=compute_kth_dist(data_set, k = K)\n",
        "    distances_df = pd.concat([distances_df, pd.DataFrame((np.sort(distances_list))[:,0:500])])\n",
        "\n",
        "distances_list=compute_last_dist(data_set, k = 40000)\n",
        "distances_df = pd.concat([distances_df, pd.DataFrame((np.sort(distances_list))[:,0:500])])"
      ],
      "execution_count": null,
      "outputs": []
    },
    {
      "cell_type": "code",
      "metadata": {
        "id": "_zQldM22DeIu"
      },
      "source": [
        "distances_df.to_csv('gdrive/My Drive/half_500_kth_dist_faces.csv', index = False)"
      ],
      "execution_count": null,
      "outputs": []
    },
    {
      "cell_type": "markdown",
      "metadata": {
        "id": "arj_6KvzJves"
      },
      "source": [
        "**Plot kth distances**"
      ]
    },
    {
      "cell_type": "code",
      "metadata": {
        "id": "COJILQRCJut6"
      },
      "source": [
        "distances = (pd.read_csv('gdrive/My Drive/half_500_kth_dist_faces.csv')).to_numpy()"
      ],
      "execution_count": null,
      "outputs": []
    },
    {
      "cell_type": "code",
      "metadata": {
        "id": "zYARHwgyKE1s",
        "colab": {
          "base_uri": "https://localhost:8080/",
          "height": 623
        },
        "outputId": "f219dc1c-3988-42b0-b6de-ffb0ffe48afe"
      },
      "source": [
        "K_list = [2, 5, 10, 20]\n",
        "color_list = ['red', 'blue', 'green', 'orange']\n",
        "\n",
        "pyplot.figure(figsize=(14, 10))\n",
        "pyplot.xlabel('Point index')\n",
        "pyplot.ylabel('Distance to kth neighbor')\n",
        "pyplot.grid(b=True, which='major', color='#666666', linestyle='-')\n",
        "pyplot.minorticks_on()\n",
        "pyplot.grid(b=True, which='minor', color='#999999', linestyle='-', alpha=0.2)\n",
        "\n",
        "for i in range(0, len(K_list)):\n",
        "    dists = np.sort(np.transpose(distances[:,(K_list[i]+1)]))\n",
        "    pyplot.plot(dists, label=('k= ' + str(K_list[i])), color= color_list[i])\n",
        "    \n",
        "\n",
        "pyplot.legend()"
      ],
      "execution_count": null,
      "outputs": [
        {
          "output_type": "execute_result",
          "data": {
            "text/plain": [
              "<matplotlib.legend.Legend at 0x7f58a65a8e10>"
            ]
          },
          "metadata": {
            "tags": []
          },
          "execution_count": 37
        },
        {
          "output_type": "display_data",
          "data": {
            "image/png": "[encoded data removed]",
            "text/plain": [
              "<Figure size 1008x720 with 1 Axes>"
            ]
          },
          "metadata": {
            "tags": [],
            "needs_background": "light"
          }
        }
      ]
    },
    {
      "cell_type": "markdown",
      "metadata": {
        "id": "7L0pE9A8nTU9"
      },
      "source": [
        "# IX. Observations on DBSCAN results.\n",
        "\n",
        "For any value of M and epsilon tried always one cluster with most of the points was obtained. So the DBSCAN algorithm returned only one cluster. The reason for producing only one cluster might be that the dataset is very condensed, this results from the paper where a t-sne visualization was done on the data set. The data set being condensed it means that the DBSCAN algorithm detect only one big dense cluster.\n",
        "\n",
        "<img src = 'https://drive.google.com/uc?id=1V3-8AxY-jf8C6MqL7qhBRtaTM4b74WlY' width = 1000>\n",
        "\n",
        "Figure 9.1. The FairFace dataset is very condensed compared to other dataset in the visualization of the data using the t-SNE algorithm, image taken and processed from [1]"
      ]
    },
    {
      "cell_type": "markdown",
      "metadata": {
        "id": "CtIK0KT_oXbm"
      },
      "source": [
        "# X. Further directions\n",
        "\n",
        "The K-means algorithms can find some clusters but with high noise inside the clusters, the DBSCAN was used to try to solve the noise issue but tunning parameters is very hard. Another algorithm that could be use is the OPTICS algorithms whish is a generalized DBSCAN implemented to deal with the dificulties in tunning the M and Epsilon parameters."
      ]
    },
    {
      "cell_type": "markdown",
      "metadata": {
        "id": "NYUntCbvn-Oj"
      },
      "source": [
        "# References\n",
        "\n",
        "[1] Kimmo Karkkainen UCLA, Jungseock Joo UCLA, FairFace: Face Attribute Dataset \n",
        "for Balanced Race, Gender, and Age https://arxiv.org/pdf/1908.04913.pdf\n",
        "\n",
        "[2] Florian Schroff Google Inc., Dmitry Kalenichenko Google Inc., James Philbin Google Inc.: FaceNet: A Unified Embedding for Face Recognition and Clustering https://arxiv.org/pdf/1503.03832.pdf\n",
        "\n",
        "[3] FairFace dataset https://github.com/joojs/fairface \n",
        "\n",
        "[4] https://www.learnopencv.com/best-project-award-computer-vision-for-faces/\n",
        "\n",
        "[5] http://dendroid.sk/2011/05/09/k-means-clustering/\n",
        "\n",
        "[6] https://stats.stackexchange.com/questions/194734/dbscan-what-is-a-core-point\n"
      ]
    }
  ]
}